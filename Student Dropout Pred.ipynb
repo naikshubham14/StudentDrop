{
 "cells": [
  {
   "cell_type": "code",
   "execution_count": 1,
   "id": "0951fb34",
   "metadata": {},
   "outputs": [
    {
     "data": {
      "text/plain": [
       "'C:\\\\Users\\\\shubh\\\\OneDrive\\\\Documents\\\\DS Web apps\\\\Untitled Folder'"
      ]
     },
     "execution_count": 1,
     "metadata": {},
     "output_type": "execute_result"
    }
   ],
   "source": [
    "pwd"
   ]
  },
  {
   "cell_type": "code",
   "execution_count": 2,
   "id": "3d15af9e",
   "metadata": {},
   "outputs": [],
   "source": [
    "import numpy as np\n",
    "import pandas as pd\n",
    "import seaborn as sns\n",
    "import matplotlib.pyplot as plt\n",
    "from sklearn.metrics import classification_report\n",
    "from sklearn import metrics\n",
    "from sklearn import tree\n",
    "import warnings\n",
    "warnings.filterwarnings('ignore')"
   ]
  },
  {
   "cell_type": "code",
   "execution_count": 3,
   "id": "3136e6da",
   "metadata": {},
   "outputs": [],
   "source": [
    "df = pd.read_csv(r\"C:\\Users\\shubh\\OneDrive\\Documents\\Udemy ML course\\My Datasets\\StudentDropOut.csv\")"
   ]
  },
  {
   "cell_type": "code",
   "execution_count": 4,
   "id": "1389c98a",
   "metadata": {},
   "outputs": [
    {
     "data": {
      "text/html": [
       "<div>\n",
       "<style scoped>\n",
       "    .dataframe tbody tr th:only-of-type {\n",
       "        vertical-align: middle;\n",
       "    }\n",
       "\n",
       "    .dataframe tbody tr th {\n",
       "        vertical-align: top;\n",
       "    }\n",
       "\n",
       "    .dataframe thead th {\n",
       "        text-align: right;\n",
       "    }\n",
       "</style>\n",
       "<table border=\"1\" class=\"dataframe\">\n",
       "  <thead>\n",
       "    <tr style=\"text-align: right;\">\n",
       "      <th></th>\n",
       "      <th>Residence_city</th>\n",
       "      <th>Socioeconomic_level</th>\n",
       "      <th>Civil_status</th>\n",
       "      <th>Age</th>\n",
       "      <th>State</th>\n",
       "      <th>Province</th>\n",
       "      <th>Vulnerable_group</th>\n",
       "      <th>Desired_program</th>\n",
       "      <th>Family_income</th>\n",
       "      <th>Father_level</th>\n",
       "      <th>Mother_level</th>\n",
       "      <th>STEM_subjects</th>\n",
       "      <th>H_subjects</th>\n",
       "      <th>Dropout</th>\n",
       "    </tr>\n",
       "  </thead>\n",
       "  <tbody>\n",
       "    <tr>\n",
       "      <th>0</th>\n",
       "      <td>LOCAL</td>\n",
       "      <td>2</td>\n",
       "      <td>Single</td>\n",
       "      <td>23</td>\n",
       "      <td>LOCAL</td>\n",
       "      <td>LOCAL</td>\n",
       "      <td>2</td>\n",
       "      <td>UNSPECIFIED</td>\n",
       "      <td>650000</td>\n",
       "      <td>HIGH SCHOOL</td>\n",
       "      <td>HIGH SCHOOL</td>\n",
       "      <td>57.5</td>\n",
       "      <td>38.0</td>\n",
       "      <td>NO</td>\n",
       "    </tr>\n",
       "    <tr>\n",
       "      <th>1</th>\n",
       "      <td>LOCAL</td>\n",
       "      <td>2</td>\n",
       "      <td>Single</td>\n",
       "      <td>23</td>\n",
       "      <td>LOCAL</td>\n",
       "      <td>LOCAL</td>\n",
       "      <td>2</td>\n",
       "      <td>UNSPECIFIED</td>\n",
       "      <td>3800000</td>\n",
       "      <td>TECHNICAL</td>\n",
       "      <td>UNDERGRADUATE</td>\n",
       "      <td>51.0</td>\n",
       "      <td>50.0</td>\n",
       "      <td>YES</td>\n",
       "    </tr>\n",
       "    <tr>\n",
       "      <th>2</th>\n",
       "      <td>LOCAL</td>\n",
       "      <td>3</td>\n",
       "      <td>Single</td>\n",
       "      <td>27</td>\n",
       "      <td>LOCAL</td>\n",
       "      <td>LOCAL</td>\n",
       "      <td>2</td>\n",
       "      <td>UNSPECIFIED</td>\n",
       "      <td>2500000</td>\n",
       "      <td>UNDERGRADUATE</td>\n",
       "      <td>HIGH SCHOOL</td>\n",
       "      <td>48.3</td>\n",
       "      <td>43.5</td>\n",
       "      <td>YES</td>\n",
       "    </tr>\n",
       "    <tr>\n",
       "      <th>3</th>\n",
       "      <td>LOCAL</td>\n",
       "      <td>1</td>\n",
       "      <td>Single</td>\n",
       "      <td>24</td>\n",
       "      <td>NEIGHBOR</td>\n",
       "      <td>FOREIGN</td>\n",
       "      <td>2</td>\n",
       "      <td>UNSPECIFIED</td>\n",
       "      <td>1900000</td>\n",
       "      <td>HIGH SCHOOL</td>\n",
       "      <td>TECHNICAL</td>\n",
       "      <td>35.8</td>\n",
       "      <td>49.3</td>\n",
       "      <td>YES</td>\n",
       "    </tr>\n",
       "    <tr>\n",
       "      <th>4</th>\n",
       "      <td>NEIGHBOR</td>\n",
       "      <td>1</td>\n",
       "      <td>Single</td>\n",
       "      <td>26</td>\n",
       "      <td>NEIGHBOR</td>\n",
       "      <td>FOREIGN</td>\n",
       "      <td>2</td>\n",
       "      <td>UNSPECIFIED</td>\n",
       "      <td>500000</td>\n",
       "      <td>HIGH SCHOOL</td>\n",
       "      <td>HIGH SCHOOL</td>\n",
       "      <td>42.7</td>\n",
       "      <td>41.1</td>\n",
       "      <td>YES</td>\n",
       "    </tr>\n",
       "  </tbody>\n",
       "</table>\n",
       "</div>"
      ],
      "text/plain": [
       "  Residence_city  Socioeconomic_level Civil_status  Age     State Province  \\\n",
       "0          LOCAL                    2       Single   23     LOCAL    LOCAL   \n",
       "1          LOCAL                    2       Single   23     LOCAL    LOCAL   \n",
       "2          LOCAL                    3       Single   27     LOCAL    LOCAL   \n",
       "3          LOCAL                    1       Single   24  NEIGHBOR  FOREIGN   \n",
       "4       NEIGHBOR                    1       Single   26  NEIGHBOR  FOREIGN   \n",
       "\n",
       "   Vulnerable_group Desired_program  Family_income   Father_level  \\\n",
       "0                 2     UNSPECIFIED         650000    HIGH SCHOOL   \n",
       "1                 2     UNSPECIFIED        3800000      TECHNICAL   \n",
       "2                 2     UNSPECIFIED        2500000  UNDERGRADUATE   \n",
       "3                 2     UNSPECIFIED        1900000    HIGH SCHOOL   \n",
       "4                 2     UNSPECIFIED         500000    HIGH SCHOOL   \n",
       "\n",
       "    Mother_level  STEM_subjects  H_subjects Dropout  \n",
       "0    HIGH SCHOOL           57.5        38.0      NO  \n",
       "1  UNDERGRADUATE           51.0        50.0     YES  \n",
       "2    HIGH SCHOOL           48.3        43.5     YES  \n",
       "3      TECHNICAL           35.8        49.3     YES  \n",
       "4    HIGH SCHOOL           42.7        41.1     YES  "
      ]
     },
     "execution_count": 4,
     "metadata": {},
     "output_type": "execute_result"
    }
   ],
   "source": [
    "df.head()"
   ]
  },
  {
   "cell_type": "code",
   "execution_count": 5,
   "id": "06434fb8",
   "metadata": {},
   "outputs": [
    {
     "data": {
      "text/plain": [
       "(219, 14)"
      ]
     },
     "execution_count": 5,
     "metadata": {},
     "output_type": "execute_result"
    }
   ],
   "source": [
    "df.shape"
   ]
  },
  {
   "cell_type": "code",
   "execution_count": 6,
   "id": "2c5863ea",
   "metadata": {},
   "outputs": [
    {
     "data": {
      "text/html": [
       "<div>\n",
       "<style scoped>\n",
       "    .dataframe tbody tr th:only-of-type {\n",
       "        vertical-align: middle;\n",
       "    }\n",
       "\n",
       "    .dataframe tbody tr th {\n",
       "        vertical-align: top;\n",
       "    }\n",
       "\n",
       "    .dataframe thead th {\n",
       "        text-align: right;\n",
       "    }\n",
       "</style>\n",
       "<table border=\"1\" class=\"dataframe\">\n",
       "  <thead>\n",
       "    <tr style=\"text-align: right;\">\n",
       "      <th></th>\n",
       "      <th>Socioeconomic_level</th>\n",
       "      <th>Age</th>\n",
       "      <th>Vulnerable_group</th>\n",
       "      <th>Family_income</th>\n",
       "      <th>STEM_subjects</th>\n",
       "      <th>H_subjects</th>\n",
       "    </tr>\n",
       "  </thead>\n",
       "  <tbody>\n",
       "    <tr>\n",
       "      <th>count</th>\n",
       "      <td>219.000000</td>\n",
       "      <td>219.000000</td>\n",
       "      <td>219.000000</td>\n",
       "      <td>2.190000e+02</td>\n",
       "      <td>219.000000</td>\n",
       "      <td>219.000000</td>\n",
       "    </tr>\n",
       "    <tr>\n",
       "      <th>mean</th>\n",
       "      <td>2.164384</td>\n",
       "      <td>26.812785</td>\n",
       "      <td>1.908676</td>\n",
       "      <td>1.962812e+06</td>\n",
       "      <td>49.205479</td>\n",
       "      <td>45.574886</td>\n",
       "    </tr>\n",
       "    <tr>\n",
       "      <th>std</th>\n",
       "      <td>0.972281</td>\n",
       "      <td>3.853584</td>\n",
       "      <td>0.470084</td>\n",
       "      <td>2.400445e+06</td>\n",
       "      <td>6.834852</td>\n",
       "      <td>6.864104</td>\n",
       "    </tr>\n",
       "    <tr>\n",
       "      <th>min</th>\n",
       "      <td>1.000000</td>\n",
       "      <td>21.000000</td>\n",
       "      <td>-1.000000</td>\n",
       "      <td>0.000000e+00</td>\n",
       "      <td>20.000000</td>\n",
       "      <td>20.000000</td>\n",
       "    </tr>\n",
       "    <tr>\n",
       "      <th>25%</th>\n",
       "      <td>1.000000</td>\n",
       "      <td>24.000000</td>\n",
       "      <td>2.000000</td>\n",
       "      <td>7.500000e+05</td>\n",
       "      <td>45.300000</td>\n",
       "      <td>41.300000</td>\n",
       "    </tr>\n",
       "    <tr>\n",
       "      <th>50%</th>\n",
       "      <td>2.000000</td>\n",
       "      <td>26.000000</td>\n",
       "      <td>2.000000</td>\n",
       "      <td>1.600000e+06</td>\n",
       "      <td>48.800000</td>\n",
       "      <td>45.300000</td>\n",
       "    </tr>\n",
       "    <tr>\n",
       "      <th>75%</th>\n",
       "      <td>3.000000</td>\n",
       "      <td>28.000000</td>\n",
       "      <td>2.000000</td>\n",
       "      <td>2.500000e+06</td>\n",
       "      <td>53.050000</td>\n",
       "      <td>50.300000</td>\n",
       "    </tr>\n",
       "    <tr>\n",
       "      <th>max</th>\n",
       "      <td>5.000000</td>\n",
       "      <td>48.000000</td>\n",
       "      <td>2.000000</td>\n",
       "      <td>2.800000e+07</td>\n",
       "      <td>67.600000</td>\n",
       "      <td>66.800000</td>\n",
       "    </tr>\n",
       "  </tbody>\n",
       "</table>\n",
       "</div>"
      ],
      "text/plain": [
       "       Socioeconomic_level         Age  Vulnerable_group  Family_income  \\\n",
       "count           219.000000  219.000000        219.000000   2.190000e+02   \n",
       "mean              2.164384   26.812785          1.908676   1.962812e+06   \n",
       "std               0.972281    3.853584          0.470084   2.400445e+06   \n",
       "min               1.000000   21.000000         -1.000000   0.000000e+00   \n",
       "25%               1.000000   24.000000          2.000000   7.500000e+05   \n",
       "50%               2.000000   26.000000          2.000000   1.600000e+06   \n",
       "75%               3.000000   28.000000          2.000000   2.500000e+06   \n",
       "max               5.000000   48.000000          2.000000   2.800000e+07   \n",
       "\n",
       "       STEM_subjects  H_subjects  \n",
       "count     219.000000  219.000000  \n",
       "mean       49.205479   45.574886  \n",
       "std         6.834852    6.864104  \n",
       "min        20.000000   20.000000  \n",
       "25%        45.300000   41.300000  \n",
       "50%        48.800000   45.300000  \n",
       "75%        53.050000   50.300000  \n",
       "max        67.600000   66.800000  "
      ]
     },
     "execution_count": 6,
     "metadata": {},
     "output_type": "execute_result"
    }
   ],
   "source": [
    "df.describe()"
   ]
  },
  {
   "cell_type": "code",
   "execution_count": 7,
   "id": "94443918",
   "metadata": {},
   "outputs": [
    {
     "name": "stdout",
     "output_type": "stream",
     "text": [
      "<class 'pandas.core.frame.DataFrame'>\n",
      "RangeIndex: 219 entries, 0 to 218\n",
      "Data columns (total 14 columns):\n",
      " #   Column               Non-Null Count  Dtype  \n",
      "---  ------               --------------  -----  \n",
      " 0   Residence_city       219 non-null    object \n",
      " 1   Socioeconomic_level  219 non-null    int64  \n",
      " 2   Civil_status         219 non-null    object \n",
      " 3   Age                  219 non-null    int64  \n",
      " 4   State                219 non-null    object \n",
      " 5   Province             219 non-null    object \n",
      " 6   Vulnerable_group     219 non-null    int64  \n",
      " 7   Desired_program      219 non-null    object \n",
      " 8   Family_income        219 non-null    int64  \n",
      " 9   Father_level         219 non-null    object \n",
      " 10  Mother_level         219 non-null    object \n",
      " 11  STEM_subjects        219 non-null    float64\n",
      " 12  H_subjects           219 non-null    float64\n",
      " 13  Dropout              219 non-null    object \n",
      "dtypes: float64(2), int64(4), object(8)\n",
      "memory usage: 24.1+ KB\n"
     ]
    }
   ],
   "source": [
    "df.info()"
   ]
  },
  {
   "cell_type": "code",
   "execution_count": 8,
   "id": "58e2d89f",
   "metadata": {},
   "outputs": [
    {
     "data": {
      "text/plain": [
       "<AxesSubplot:xlabel='Province', ylabel='count'>"
      ]
     },
     "execution_count": 8,
     "metadata": {},
     "output_type": "execute_result"
    },
    {
     "data": {
      "image/png": "[encoded data removed]",
      "text/plain": [
       "<Figure size 432x288 with 1 Axes>"
      ]
     },
     "metadata": {
      "needs_background": "light"
     },
     "output_type": "display_data"
    }
   ],
   "source": [
    "sns.countplot(x=\"Province\", data=df)"
   ]
  },
  {
   "cell_type": "code",
   "execution_count": 9,
   "id": "d467dd1a",
   "metadata": {},
   "outputs": [
    {
     "data": {
      "text/plain": [
       "<seaborn.axisgrid.JointGrid at 0x29c90c94e20>"
      ]
     },
     "execution_count": 9,
     "metadata": {},
     "output_type": "execute_result"
    },
    {
     "data": {
      "image/png": "[encoded data removed]",
      "text/plain": [
       "<Figure size 432x432 with 3 Axes>"
      ]
     },
     "metadata": {
      "needs_background": "light"
     },
     "output_type": "display_data"
    }
   ],
   "source": [
    "sns.jointplot(x=\"STEM_subjects\", y=\"Dropout\", data=df)"
   ]
  },
  {
   "cell_type": "code",
   "execution_count": 25,
   "id": "52f5ee29",
   "metadata": {},
   "outputs": [],
   "source": [
    "del df[\"Civil_status\"]"
   ]
  },
  {
   "cell_type": "code",
   "execution_count": 26,
   "id": "2ad7b34f",
   "metadata": {},
   "outputs": [
    {
     "data": {
      "text/html": [
       "<div>\n",
       "<style scoped>\n",
       "    .dataframe tbody tr th:only-of-type {\n",
       "        vertical-align: middle;\n",
       "    }\n",
       "\n",
       "    .dataframe tbody tr th {\n",
       "        vertical-align: top;\n",
       "    }\n",
       "\n",
       "    .dataframe thead th {\n",
       "        text-align: right;\n",
       "    }\n",
       "</style>\n",
       "<table border=\"1\" class=\"dataframe\">\n",
       "  <thead>\n",
       "    <tr style=\"text-align: right;\">\n",
       "      <th></th>\n",
       "      <th>Residence_city</th>\n",
       "      <th>Socioeconomic_level</th>\n",
       "      <th>Age</th>\n",
       "      <th>Province</th>\n",
       "      <th>Family_income</th>\n",
       "      <th>Father_level</th>\n",
       "      <th>Mother_level</th>\n",
       "      <th>STEM_subjects</th>\n",
       "      <th>H_subjects</th>\n",
       "      <th>Dropout</th>\n",
       "    </tr>\n",
       "  </thead>\n",
       "  <tbody>\n",
       "    <tr>\n",
       "      <th>0</th>\n",
       "      <td>1</td>\n",
       "      <td>2</td>\n",
       "      <td>23</td>\n",
       "      <td>1</td>\n",
       "      <td>650000</td>\n",
       "      <td>2</td>\n",
       "      <td>2</td>\n",
       "      <td>57.5</td>\n",
       "      <td>38.0</td>\n",
       "      <td>0</td>\n",
       "    </tr>\n",
       "    <tr>\n",
       "      <th>1</th>\n",
       "      <td>1</td>\n",
       "      <td>2</td>\n",
       "      <td>23</td>\n",
       "      <td>1</td>\n",
       "      <td>3800000</td>\n",
       "      <td>4</td>\n",
       "      <td>3</td>\n",
       "      <td>51.0</td>\n",
       "      <td>50.0</td>\n",
       "      <td>1</td>\n",
       "    </tr>\n",
       "    <tr>\n",
       "      <th>2</th>\n",
       "      <td>1</td>\n",
       "      <td>3</td>\n",
       "      <td>27</td>\n",
       "      <td>1</td>\n",
       "      <td>2500000</td>\n",
       "      <td>3</td>\n",
       "      <td>2</td>\n",
       "      <td>48.3</td>\n",
       "      <td>43.5</td>\n",
       "      <td>1</td>\n",
       "    </tr>\n",
       "    <tr>\n",
       "      <th>3</th>\n",
       "      <td>1</td>\n",
       "      <td>1</td>\n",
       "      <td>24</td>\n",
       "      <td>3</td>\n",
       "      <td>1900000</td>\n",
       "      <td>2</td>\n",
       "      <td>4</td>\n",
       "      <td>35.8</td>\n",
       "      <td>49.3</td>\n",
       "      <td>1</td>\n",
       "    </tr>\n",
       "    <tr>\n",
       "      <th>4</th>\n",
       "      <td>2</td>\n",
       "      <td>1</td>\n",
       "      <td>26</td>\n",
       "      <td>3</td>\n",
       "      <td>500000</td>\n",
       "      <td>2</td>\n",
       "      <td>2</td>\n",
       "      <td>42.7</td>\n",
       "      <td>41.1</td>\n",
       "      <td>1</td>\n",
       "    </tr>\n",
       "  </tbody>\n",
       "</table>\n",
       "</div>"
      ],
      "text/plain": [
       "   Residence_city  Socioeconomic_level  Age  Province  Family_income  \\\n",
       "0               1                    2   23         1         650000   \n",
       "1               1                    2   23         1        3800000   \n",
       "2               1                    3   27         1        2500000   \n",
       "3               1                    1   24         3        1900000   \n",
       "4               2                    1   26         3         500000   \n",
       "\n",
       "   Father_level  Mother_level  STEM_subjects  H_subjects  Dropout  \n",
       "0             2             2           57.5        38.0        0  \n",
       "1             4             3           51.0        50.0        1  \n",
       "2             3             2           48.3        43.5        1  \n",
       "3             2             4           35.8        49.3        1  \n",
       "4             2             2           42.7        41.1        1  "
      ]
     },
     "execution_count": 26,
     "metadata": {},
     "output_type": "execute_result"
    }
   ],
   "source": [
    "df.head()"
   ]
  },
  {
   "cell_type": "code",
   "execution_count": 27,
   "id": "1baeb80b",
   "metadata": {},
   "outputs": [
    {
     "data": {
      "text/plain": [
       "2    69\n",
       "3    63\n",
       "1    46\n",
       "4    35\n",
       "5     5\n",
       "6     1\n",
       "Name: Mother_level, dtype: int64"
      ]
     },
     "execution_count": 27,
     "metadata": {},
     "output_type": "execute_result"
    }
   ],
   "source": [
    "df[\"Mother_level\"].value_counts()"
   ]
  },
  {
   "cell_type": "code",
   "execution_count": 28,
   "id": "051d3ef5",
   "metadata": {},
   "outputs": [],
   "source": [
    "cleanup_nums = {\n",
    "                \"Residence_city\":{\"LOCAL\":1, \"NEIGHBOR\":2, \"FOREIGN\":3},\n",
    "                \"Province\":{\"LOCAL\":1, \"NEIGHBOR\":2, \"FOREIGN\":3},\n",
    "                \"Father_level\" : {\"PRIMARY SCHOOL\":1, \"HIGH SCHOOL\":2, \"UNDERGRADUATE\":3, \"TECHNICAL\":4, \"TECHNOLOGIST\":5, \"UNREGISTERED\":6 },\n",
    "                \"Mother_level\" : {\"PRIMARY SCHOOL\":1, \"HIGH SCHOOL\":2, \"UNDERGRADUATE\":3, \"TECHNICAL\":4, \"TECHNOLOGIST\":5, \"UNREGISTERED\":6 },\n",
    "                \"Dropout\" : {\"YES\":1, \"NO\":0}\n",
    "}"
   ]
  },
  {
   "cell_type": "code",
   "execution_count": 29,
   "id": "0d214d33",
   "metadata": {},
   "outputs": [],
   "source": [
    "df = df.replace(cleanup_nums)"
   ]
  },
  {
   "cell_type": "code",
   "execution_count": 31,
   "id": "71f5c297",
   "metadata": {},
   "outputs": [
    {
     "data": {
      "text/html": [
       "<div>\n",
       "<style scoped>\n",
       "    .dataframe tbody tr th:only-of-type {\n",
       "        vertical-align: middle;\n",
       "    }\n",
       "\n",
       "    .dataframe tbody tr th {\n",
       "        vertical-align: top;\n",
       "    }\n",
       "\n",
       "    .dataframe thead th {\n",
       "        text-align: right;\n",
       "    }\n",
       "</style>\n",
       "<table border=\"1\" class=\"dataframe\">\n",
       "  <thead>\n",
       "    <tr style=\"text-align: right;\">\n",
       "      <th></th>\n",
       "      <th>Residence_city</th>\n",
       "      <th>Socioeconomic_level</th>\n",
       "      <th>Age</th>\n",
       "      <th>Province</th>\n",
       "      <th>Family_income</th>\n",
       "      <th>Father_level</th>\n",
       "      <th>Mother_level</th>\n",
       "      <th>STEM_subjects</th>\n",
       "      <th>H_subjects</th>\n",
       "      <th>Dropout</th>\n",
       "    </tr>\n",
       "  </thead>\n",
       "  <tbody>\n",
       "    <tr>\n",
       "      <th>0</th>\n",
       "      <td>1</td>\n",
       "      <td>2</td>\n",
       "      <td>23</td>\n",
       "      <td>1</td>\n",
       "      <td>650000</td>\n",
       "      <td>2</td>\n",
       "      <td>2</td>\n",
       "      <td>57.5</td>\n",
       "      <td>38.0</td>\n",
       "      <td>0</td>\n",
       "    </tr>\n",
       "    <tr>\n",
       "      <th>1</th>\n",
       "      <td>1</td>\n",
       "      <td>2</td>\n",
       "      <td>23</td>\n",
       "      <td>1</td>\n",
       "      <td>3800000</td>\n",
       "      <td>4</td>\n",
       "      <td>3</td>\n",
       "      <td>51.0</td>\n",
       "      <td>50.0</td>\n",
       "      <td>1</td>\n",
       "    </tr>\n",
       "    <tr>\n",
       "      <th>2</th>\n",
       "      <td>1</td>\n",
       "      <td>3</td>\n",
       "      <td>27</td>\n",
       "      <td>1</td>\n",
       "      <td>2500000</td>\n",
       "      <td>3</td>\n",
       "      <td>2</td>\n",
       "      <td>48.3</td>\n",
       "      <td>43.5</td>\n",
       "      <td>1</td>\n",
       "    </tr>\n",
       "    <tr>\n",
       "      <th>3</th>\n",
       "      <td>1</td>\n",
       "      <td>1</td>\n",
       "      <td>24</td>\n",
       "      <td>3</td>\n",
       "      <td>1900000</td>\n",
       "      <td>2</td>\n",
       "      <td>4</td>\n",
       "      <td>35.8</td>\n",
       "      <td>49.3</td>\n",
       "      <td>1</td>\n",
       "    </tr>\n",
       "    <tr>\n",
       "      <th>4</th>\n",
       "      <td>2</td>\n",
       "      <td>1</td>\n",
       "      <td>26</td>\n",
       "      <td>3</td>\n",
       "      <td>500000</td>\n",
       "      <td>2</td>\n",
       "      <td>2</td>\n",
       "      <td>42.7</td>\n",
       "      <td>41.1</td>\n",
       "      <td>1</td>\n",
       "    </tr>\n",
       "  </tbody>\n",
       "</table>\n",
       "</div>"
      ],
      "text/plain": [
       "   Residence_city  Socioeconomic_level  Age  Province  Family_income  \\\n",
       "0               1                    2   23         1         650000   \n",
       "1               1                    2   23         1        3800000   \n",
       "2               1                    3   27         1        2500000   \n",
       "3               1                    1   24         3        1900000   \n",
       "4               2                    1   26         3         500000   \n",
       "\n",
       "   Father_level  Mother_level  STEM_subjects  H_subjects  Dropout  \n",
       "0             2             2           57.5        38.0        0  \n",
       "1             4             3           51.0        50.0        1  \n",
       "2             3             2           48.3        43.5        1  \n",
       "3             2             4           35.8        49.3        1  \n",
       "4             2             2           42.7        41.1        1  "
      ]
     },
     "execution_count": 31,
     "metadata": {},
     "output_type": "execute_result"
    }
   ],
   "source": [
    "df.head()"
   ]
  },
  {
   "cell_type": "raw",
   "id": "07c26a49",
   "metadata": {},
   "source": [
    "df.info()"
   ]
  },
  {
   "cell_type": "code",
   "execution_count": 33,
   "id": "b9a01342",
   "metadata": {},
   "outputs": [],
   "source": [
    "from sklearn.model_selection import train_test_split"
   ]
  },
  {
   "cell_type": "code",
   "execution_count": 34,
   "id": "6c109125",
   "metadata": {},
   "outputs": [],
   "source": [
    "X=df.loc[:,df.columns != \"Dropout\"]"
   ]
  },
  {
   "cell_type": "code",
   "execution_count": 36,
   "id": "223a2cf8",
   "metadata": {},
   "outputs": [],
   "source": [
    "y = df[\"Dropout\"]"
   ]
  },
  {
   "cell_type": "code",
   "execution_count": 37,
   "id": "3ce15c66",
   "metadata": {},
   "outputs": [],
   "source": [
    "X_train, X_test, y_train, y_test = train_test_split(X, y, test_size=0.2, random_state=0)"
   ]
  },
  {
   "cell_type": "markdown",
   "id": "bd830a34",
   "metadata": {},
   "source": [
    "## Decision Tree"
   ]
  },
  {
   "cell_type": "code",
   "execution_count": 38,
   "id": "7c6c83d7",
   "metadata": {},
   "outputs": [
    {
     "name": "stdout",
     "output_type": "stream",
     "text": [
      "              precision    recall  f1-score   support\n",
      "\n",
      "           0       0.40      0.32      0.35        19\n",
      "           1       0.55      0.64      0.59        25\n",
      "\n",
      "    accuracy                           0.50        44\n",
      "   macro avg       0.48      0.48      0.47        44\n",
      "weighted avg       0.49      0.50      0.49        44\n",
      "\n"
     ]
    }
   ],
   "source": [
    "from sklearn.tree import DecisionTreeClassifier\n",
    "\n",
    "DecisionTree = DecisionTreeClassifier(criterion=\"entropy\",random_state=2,max_depth=5)\n",
    "\n",
    "DecisionTree.fit(X_train,y_train)\n",
    "\n",
    "predicted_values = DecisionTree.predict(X_test)\n",
    "#acc_score = metrics.accuracy_score(y_test, predicted_values)\n",
    "#acc_score.append(acc_score)\n",
    "#model.append('Decision Tree')\n",
    "#print(\"DecisionTrees's Accuracy is: \", x*100)\n",
    "\n",
    "print(classification_report(y_test,predicted_values))"
   ]
  },
  {
   "cell_type": "code",
   "execution_count": 39,
   "id": "2eb223f2",
   "metadata": {},
   "outputs": [],
   "source": [
    "from sklearn.metrics import confusion_matrix, accuracy_score"
   ]
  },
  {
   "cell_type": "code",
   "execution_count": 40,
   "id": "1f9c13f5",
   "metadata": {},
   "outputs": [
    {
     "data": {
      "text/plain": [
       "array([[ 6, 13],\n",
       "       [ 9, 16]], dtype=int64)"
      ]
     },
     "execution_count": 40,
     "metadata": {},
     "output_type": "execute_result"
    }
   ],
   "source": [
    "confusion_matrix(y_test, DecisionTree.predict(X_test))"
   ]
  },
  {
   "cell_type": "code",
   "execution_count": 41,
   "id": "87334b6b",
   "metadata": {},
   "outputs": [
    {
     "data": {
      "text/plain": [
       "0.5"
      ]
     },
     "execution_count": 41,
     "metadata": {},
     "output_type": "execute_result"
    }
   ],
   "source": [
    "accuracy_score(y_test, DecisionTree.predict(X_test))"
   ]
  },
  {
   "cell_type": "code",
   "execution_count": 42,
   "id": "1178218b",
   "metadata": {},
   "outputs": [],
   "source": [
    "import pickle\n",
    "# Dump the trained Naive Bayes classifier with Pickle\n",
    "DT_pkl_filename = 'DecisionTree.pkl'\n",
    "# Open the file to save as pkl file\n",
    "DT_Model_pkl = open(DT_pkl_filename, 'wb')\n",
    "pickle.dump(DecisionTree, DT_Model_pkl)\n",
    "# Close the pickle instances\n",
    "DT_Model_pkl.close()\n"
   ]
  },
  {
   "cell_type": "markdown",
   "id": "2b3250c7",
   "metadata": {},
   "source": [
    "## Gaussian Naive Baye"
   ]
  },
  {
   "cell_type": "code",
   "execution_count": 43,
   "id": "8dbe0b2e",
   "metadata": {},
   "outputs": [],
   "source": [
    "from sklearn.naive_bayes import GaussianNB\n",
    "\n",
    "NaiveBayes = GaussianNB()\n",
    "\n",
    "NaiveBayes.fit(X_train,y_train)\n",
    "\n",
    "predicted_values = NaiveBayes.predict(X_test)\n",
    "#x = metrics.accuracy_score(y_test, predicted_values)\n",
    "#acc.append(x)\n",
    "#model.append('Naive Bayes')\n",
    "#print(\"Naive Bayes's Accuracy is: \", x)\n",
    "\n",
    "#print(classification_report(Ytest,predicted_values))"
   ]
  },
  {
   "cell_type": "code",
   "execution_count": 44,
   "id": "a5a7606f",
   "metadata": {},
   "outputs": [
    {
     "data": {
      "text/plain": [
       "array([[ 3, 16],\n",
       "       [ 4, 21]], dtype=int64)"
      ]
     },
     "execution_count": 44,
     "metadata": {},
     "output_type": "execute_result"
    }
   ],
   "source": [
    "confusion_matrix(y_test, NaiveBayes.predict(X_test))"
   ]
  },
  {
   "cell_type": "code",
   "execution_count": 45,
   "id": "9a6d1cc6",
   "metadata": {},
   "outputs": [
    {
     "data": {
      "text/plain": [
       "0.5454545454545454"
      ]
     },
     "execution_count": 45,
     "metadata": {},
     "output_type": "execute_result"
    }
   ],
   "source": [
    "accuracy_score(y_test, NaiveBayes.predict(X_test))"
   ]
  },
  {
   "cell_type": "markdown",
   "id": "0c67a1dd",
   "metadata": {},
   "source": [
    "## SVM"
   ]
  },
  {
   "cell_type": "code",
   "execution_count": 46,
   "id": "18c4e303",
   "metadata": {},
   "outputs": [],
   "source": [
    "from sklearn.svm import SVC\n",
    "\n",
    "SVM = SVC(gamma='auto')\n",
    "\n",
    "SVM.fit(X_train,y_train)\n",
    "\n",
    "predicted_values = SVM.predict(X_test)\n",
    "\n",
    "#x = metrics.accuracy_score(Ytest, predicted_values)\n",
    "#acc.append(x)\n",
    "#model.append('SVM')\n",
    "#print(\"SVM's Accuracy is: \", x)\n",
    "\n",
    "#print(classification_report(Ytest,predicted_values))"
   ]
  },
  {
   "cell_type": "code",
   "execution_count": 47,
   "id": "9a6ca33a",
   "metadata": {},
   "outputs": [
    {
     "data": {
      "text/plain": [
       "array([[18,  1],\n",
       "       [22,  3]], dtype=int64)"
      ]
     },
     "execution_count": 47,
     "metadata": {},
     "output_type": "execute_result"
    }
   ],
   "source": [
    "confusion_matrix(y_test, SVM.predict(X_test))"
   ]
  },
  {
   "cell_type": "code",
   "execution_count": 48,
   "id": "f917ce87",
   "metadata": {},
   "outputs": [
    {
     "data": {
      "text/plain": [
       "0.4772727272727273"
      ]
     },
     "execution_count": 48,
     "metadata": {},
     "output_type": "execute_result"
    }
   ],
   "source": [
    "accuracy_score(y_test, SVM.predict(X_test))"
   ]
  },
  {
   "cell_type": "markdown",
   "id": "d7dc49bb",
   "metadata": {},
   "source": [
    "  ## Logistic Regression\n",
    " "
   ]
  },
  {
   "cell_type": "code",
   "execution_count": 49,
   "id": "8d395724",
   "metadata": {},
   "outputs": [],
   "source": [
    "from sklearn.linear_model import LogisticRegression\n",
    "\n",
    "LogReg = LogisticRegression(random_state=2)\n",
    "\n",
    "LogReg.fit(X_train,y_train)\n",
    "\n",
    "predicted_values = LogReg.predict(X_test)\n",
    "\n",
    "#x = metrics.accuracy_score(Ytest, predicted_values)\n",
    "#acc.append(x)\n",
    "#model.append('Logistic Regression')\n",
    "#print(\"Logistic Regression's Accuracy is: \", x)\n",
    "\n",
    "#print(classification_report(Ytest,predicted_values))"
   ]
  },
  {
   "cell_type": "code",
   "execution_count": 50,
   "id": "916025d9",
   "metadata": {},
   "outputs": [
    {
     "data": {
      "text/plain": [
       "0.4318181818181818"
      ]
     },
     "execution_count": 50,
     "metadata": {},
     "output_type": "execute_result"
    }
   ],
   "source": [
    "confusion_matrix(y_test,LogReg.predict(X_test))\n",
    "accuracy_score(y_test, LogReg.predict(X_test))"
   ]
  },
  {
   "cell_type": "markdown",
   "id": "44eff902",
   "metadata": {},
   "source": [
    "## Random Forest"
   ]
  },
  {
   "cell_type": "code",
   "execution_count": 51,
   "id": "6fbd4e78",
   "metadata": {},
   "outputs": [],
   "source": [
    "from sklearn.ensemble import RandomForestClassifier\n",
    "\n",
    "RF = RandomForestClassifier(n_estimators=25, random_state=0, n_jobs=-1)\n",
    "RF.fit(X_train,y_train)\n",
    "\n",
    "predicted_values = RF.predict(X_test)\n",
    "\n",
    "#x = metrics.accuracy_score(Ytest, predicted_values)\n",
    "#acc.append(x)\n",
    "#model.append('RF')\n",
    "#print(\"RF's Accuracy is: \", x)\n",
    "\n",
    "#print(classification_report(Ytest,predicted_values))"
   ]
  },
  {
   "cell_type": "code",
   "execution_count": 52,
   "id": "98ccb8df",
   "metadata": {},
   "outputs": [
    {
     "data": {
      "text/plain": [
       "0.5227272727272727"
      ]
     },
     "execution_count": 52,
     "metadata": {},
     "output_type": "execute_result"
    }
   ],
   "source": [
    "confusion_matrix(y_test,RF.predict(X_test))\n",
    "accuracy_score(y_test, RF.predict(X_test))"
   ]
  },
  {
   "cell_type": "code",
   "execution_count": 53,
   "id": "a1a5e747",
   "metadata": {},
   "outputs": [],
   "source": [
    " from sklearn.model_selection import GridSearchCV"
   ]
  },
  {
   "cell_type": "code",
   "execution_count": 57,
   "id": "73cf461d",
   "metadata": {},
   "outputs": [],
   "source": [
    "param_grid = {\"max_features\":[1,2,3,4,5,6,7,8,9], 'min_samples_split':[2,3,13, 15]}"
   ]
  },
  {
   "cell_type": "code",
   "execution_count": 58,
   "id": "000dee6c",
   "metadata": {},
   "outputs": [],
   "source": [
    "grid_search = GridSearchCV(RF, param_grid, n_jobs=-1, cv=5, scoring=\"accuracy\")"
   ]
  },
  {
   "cell_type": "code",
   "execution_count": 59,
   "id": "ec76fd69",
   "metadata": {},
   "outputs": [
    {
     "data": {
      "text/plain": [
       "GridSearchCV(cv=5,\n",
       "             estimator=RandomForestClassifier(n_estimators=25, n_jobs=-1,\n",
       "                                              random_state=0),\n",
       "             n_jobs=-1,\n",
       "             param_grid={'max_features': [1, 2, 3, 4, 5, 6, 7, 8, 9],\n",
       "                         'min_samples_split': [2, 3, 13, 15]},\n",
       "             scoring='accuracy')"
      ]
     },
     "execution_count": 59,
     "metadata": {},
     "output_type": "execute_result"
    }
   ],
   "source": [
    "grid_search.fit(X_train, y_train)"
   ]
  },
  {
   "cell_type": "code",
   "execution_count": 60,
   "id": "ba4b4b96",
   "metadata": {},
   "outputs": [
    {
     "data": {
      "text/plain": [
       "{'max_features': 1, 'min_samples_split': 13}"
      ]
     },
     "execution_count": 60,
     "metadata": {},
     "output_type": "execute_result"
    }
   ],
   "source": [
    "grid_search.best_params_"
   ]
  },
  {
   "cell_type": "code",
   "execution_count": 61,
   "id": "8ab9f8bf",
   "metadata": {},
   "outputs": [],
   "source": [
    "cvrf_clf =  grid_search.best_estimator_"
   ]
  },
  {
   "cell_type": "code",
   "execution_count": 62,
   "id": "127c58f1",
   "metadata": {},
   "outputs": [
    {
     "data": {
      "text/plain": [
       "array([[16,  3],\n",
       "       [15, 10]], dtype=int64)"
      ]
     },
     "execution_count": 62,
     "metadata": {},
     "output_type": "execute_result"
    }
   ],
   "source": [
    "confusion_matrix(y_test, cvrf_clf.predict(X_test))"
   ]
  },
  {
   "cell_type": "code",
   "execution_count": 73,
   "id": "59f2d4e5",
   "metadata": {},
   "outputs": [
    {
     "data": {
      "text/plain": [
       "0.5909090909090909"
      ]
     },
     "execution_count": 73,
     "metadata": {},
     "output_type": "execute_result"
    }
   ],
   "source": [
    "accuracy_score(y_test\n",
    "              , cvrf_clf.predict(X_test))"
   ]
  },
  {
   "cell_type": "code",
   "execution_count": 74,
   "id": "8294b055",
   "metadata": {},
   "outputs": [],
   "source": [
    "import pickle\n",
    "# Dump the trained Naive Bayes classifier with Pickle\n",
    "RF_pkl_filename = 'RandomForest.pkl'\n",
    "# Open the file to save as pkl file\n",
    "RF_Model_pkl = open(RF_pkl_filename, 'wb')\n",
    "pickle.dump(RF, RF_Model_pkl)\n",
    "# Close the pickle instances\n",
    "RF_Model_pkl.close()"
   ]
  },
  {
   "cell_type": "markdown",
   "id": "0da69b9a",
   "metadata": {},
   "source": [
    "## XGBoost"
   ]
  },
  {
   "cell_type": "code",
   "execution_count": 65,
   "id": "052af83a",
   "metadata": {},
   "outputs": [],
   "source": [
    "xgb_clf = xgb.XGBClassifier(n_estimator = 500, learning_rate = 0.1, random_state=42)"
   ]
  },
  {
   "cell_type": "code",
   "execution_count": 67,
   "id": "2dd3f97b",
   "metadata": {},
   "outputs": [],
   "source": [
    "param_test1= {\n",
    "    'max_depth':range(3,10,2),\n",
    "    'gamma': [0.1,0.2,0.3],\n",
    "    'subsample':[0.8,0.9],\n",
    "    'colsample_bytree': [0.8,0.9],\n",
    "    'reg_alpha': [1e-2, 0.1, 1]\n",
    "}"
   ]
  },
  {
   "cell_type": "code",
   "execution_count": 69,
   "id": "8136a47a",
   "metadata": {},
   "outputs": [],
   "source": [
    "grid_search = GridSearchCV(xgb_clf, param_test1, n_jobs=-1, cv=5, scoring='accuracy')"
   ]
  },
  {
   "cell_type": "code",
   "execution_count": 70,
   "id": "8f4807b7",
   "metadata": {},
   "outputs": [
    {
     "name": "stdout",
     "output_type": "stream",
     "text": [
      "[18:07:19] WARNING: C:/Users/Administrator/workspace/xgboost-win64_release_1.3.0/src/learner.cc:541: \n",
      "Parameters: { n_estimator } might not be used.\n",
      "\n",
      "  This may not be accurate due to some parameters are only used in language bindings but\n",
      "  passed down to XGBoost core.  Or some parameters are not used but slip through this\n",
      "  verification. Please open an issue if you find above cases.\n",
      "\n",
      "\n",
      "[18:07:19] WARNING: C:/Users/Administrator/workspace/xgboost-win64_release_1.3.0/src/learner.cc:1061: Starting in XGBoost 1.3.0, the default evaluation metric used with the objective 'binary:logistic' was changed from 'error' to 'logloss'. Explicitly set eval_metric if you'd like to restore the old behavior.\n"
     ]
    },
    {
     "data": {
      "text/plain": [
       "GridSearchCV(cv=5,\n",
       "             estimator=XGBClassifier(base_score=None, booster=None,\n",
       "                                     colsample_bylevel=None,\n",
       "                                     colsample_bynode=None,\n",
       "                                     colsample_bytree=None, gamma=None,\n",
       "                                     gpu_id=None, importance_type='gain',\n",
       "                                     interaction_constraints=None,\n",
       "                                     learning_rate=0.1, max_delta_step=None,\n",
       "                                     max_depth=None, min_child_weight=None,\n",
       "                                     missing=nan, monotone_constraints=None,\n",
       "                                     n_estimator=500, n_estimators=100,\n",
       "                                     n_jobs=None, num_parallel_tree=None,\n",
       "                                     random_state=42, reg_alpha=None,\n",
       "                                     reg_lambda=None, scale_pos_weight=None,\n",
       "                                     subsample=None, tree_method=None,\n",
       "                                     validate_parameters=None, verbosity=None),\n",
       "             n_jobs=-1,\n",
       "             param_grid={'colsample_bytree': [0.8, 0.9],\n",
       "                         'gamma': [0.1, 0.2, 0.3], 'max_depth': range(3, 10, 2),\n",
       "                         'reg_alpha': [0.01, 0.1, 1], 'subsample': [0.8, 0.9]},\n",
       "             scoring='accuracy')"
      ]
     },
     "execution_count": 70,
     "metadata": {},
     "output_type": "execute_result"
    }
   ],
   "source": [
    "grid_search.fit(X_train, y_train)"
   ]
  },
  {
   "cell_type": "code",
   "execution_count": 71,
   "id": "71a3e665",
   "metadata": {},
   "outputs": [],
   "source": [
    "cvxg_clf = grid_search.best_estimator_"
   ]
  },
  {
   "cell_type": "code",
   "execution_count": 72,
   "id": "4e5a5314",
   "metadata": {},
   "outputs": [
    {
     "data": {
      "text/plain": [
       "0.5909090909090909"
      ]
     },
     "execution_count": 72,
     "metadata": {},
     "output_type": "execute_result"
    }
   ],
   "source": [
    "accuracy_score(y_test, cvrf_clf.predict(X_test))"
   ]
  },
  {
   "cell_type": "code",
   "execution_count": null,
   "id": "0c80c38b",
   "metadata": {},
   "outputs": [],
   "source": []
  }
 ],
 "metadata": {
  "kernelspec": {
   "display_name": "Python 3",
   "language": "python",
   "name": "python3"
  },
  "language_info": {
   "codemirror_mode": {
    "name": "ipython",
    "version": 3
   },
   "file_extension": ".py",
   "mimetype": "text/x-python",
   "name": "python",
   "nbconvert_exporter": "python",
   "pygments_lexer": "ipython3",
   "version": "3.8.5"
  }
 },
 "nbformat": 4,
 "nbformat_minor": 5
}
